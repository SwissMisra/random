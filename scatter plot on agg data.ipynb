{
 "cells": [
  {
   "cell_type": "code",
   "execution_count": 8,
   "metadata": {
    "collapsed": true
   },
   "outputs": [],
   "source": [
    "import pandas as pd\n",
    "import seaborn as sns"
   ]
  },
  {
   "cell_type": "code",
   "execution_count": 38,
   "metadata": {},
   "outputs": [],
   "source": [
    "dummy_dict = [\n",
    "    {'event':1, 'age': 18, 'device': 'A'},\n",
    "    {'event':2,'age': 33, 'device': 'B'},\n",
    "    {'event':2,'age': 33, 'device': 'A'},\n",
    "    {'event':3,'age': 21, 'device': 'C'},\n",
    "    {'event':3,'age': 21, 'device': 'B'},\n",
    "    {'event':3,'age': 21, 'device': 'A'},\n",
    "    {'event':4,'age': 28, 'device': 'C'},\n",
    "    {'event':5,'age': 22, 'device': 'B'},\n",
    "    {'event':6,'age': 40, 'device': 'C'},\n",
    "    {'event':7,'age': 20, 'device': 'C'},\n",
    "    {'event':8,'age': 20, 'device': 'C'},\n",
    "    {'event':9,'age': 20, 'device': 'C'},\n",
    "    {'event':10,'age': 20, 'device': 'B'},\n",
    "    {'event':11,'age': 20, 'device': 'B'},\n",
    "    {'event':12,'age': 20, 'device': 'C'},\n",
    "    {'event':13,'age': 33, 'device': 'B'},\n",
    "    {'event':14,'age': 33, 'device': 'A'},\n",
    "    {'event':15,'age': 21, 'device': 'C'},\n",
    "    {'event':16,'age': 21, 'device': 'B'},\n",
    "    {'event':17,'age': 21, 'device': 'A'},\n",
    "    {'event':18,'age': 28, 'device': 'C'},\n",
    "    {'event':19,'age': 22, 'device': 'B'},\n",
    "    {'event':20,'age': 40, 'device': 'C'},\n",
    "    {'event':21,'age': 20, 'device': 'C'},\n",
    "    {'event':22,'age': 20, 'device': 'C'},\n",
    "    {'event':23,'age': 20, 'device': 'C'},\n",
    "    {'event':24,'age': 20, 'device': 'B'},\n",
    "    {'event':25,'age': 20, 'device': 'B'},\n",
    "    {'event':26,'age': 20, 'device': 'C'},\n",
    "    {'event':27,'age': 30, 'device': 'A'}]"
   ]
  },
  {
   "cell_type": "code",
   "execution_count": 39,
   "metadata": {},
   "outputs": [
    {
     "data": {
      "text/html": [
       "<div>\n",
       "<table border=\"1\" class=\"dataframe\">\n",
       "  <thead>\n",
       "    <tr style=\"text-align: right;\">\n",
       "      <th></th>\n",
       "      <th>age</th>\n",
       "      <th>device</th>\n",
       "      <th>event</th>\n",
       "    </tr>\n",
       "  </thead>\n",
       "  <tbody>\n",
       "    <tr>\n",
       "      <th>0</th>\n",
       "      <td>18</td>\n",
       "      <td>A</td>\n",
       "      <td>1</td>\n",
       "    </tr>\n",
       "    <tr>\n",
       "      <th>1</th>\n",
       "      <td>33</td>\n",
       "      <td>B</td>\n",
       "      <td>2</td>\n",
       "    </tr>\n",
       "    <tr>\n",
       "      <th>2</th>\n",
       "      <td>33</td>\n",
       "      <td>A</td>\n",
       "      <td>2</td>\n",
       "    </tr>\n",
       "    <tr>\n",
       "      <th>3</th>\n",
       "      <td>21</td>\n",
       "      <td>C</td>\n",
       "      <td>3</td>\n",
       "    </tr>\n",
       "    <tr>\n",
       "      <th>4</th>\n",
       "      <td>21</td>\n",
       "      <td>B</td>\n",
       "      <td>3</td>\n",
       "    </tr>\n",
       "  </tbody>\n",
       "</table>\n",
       "</div>"
      ],
      "text/plain": [
       "   age device  event\n",
       "0   18      A      1\n",
       "1   33      B      2\n",
       "2   33      A      2\n",
       "3   21      C      3\n",
       "4   21      B      3"
      ]
     },
     "execution_count": 39,
     "metadata": {},
     "output_type": "execute_result"
    }
   ],
   "source": [
    "df = pd.DataFrame.from_dict(dummy_dict)\n",
    "df.head()"
   ]
  },
  {
   "cell_type": "code",
   "execution_count": 45,
   "metadata": {},
   "outputs": [
    {
     "data": {
      "text/html": [
       "<div>\n",
       "<table border=\"1\" class=\"dataframe\">\n",
       "  <thead>\n",
       "    <tr style=\"text-align: right;\">\n",
       "      <th></th>\n",
       "      <th>age</th>\n",
       "      <th>device</th>\n",
       "      <th>event_count</th>\n",
       "    </tr>\n",
       "  </thead>\n",
       "  <tbody>\n",
       "    <tr>\n",
       "      <th>0</th>\n",
       "      <td>18</td>\n",
       "      <td>A</td>\n",
       "      <td>1</td>\n",
       "    </tr>\n",
       "    <tr>\n",
       "      <th>1</th>\n",
       "      <td>20</td>\n",
       "      <td>B</td>\n",
       "      <td>4</td>\n",
       "    </tr>\n",
       "    <tr>\n",
       "      <th>2</th>\n",
       "      <td>20</td>\n",
       "      <td>C</td>\n",
       "      <td>8</td>\n",
       "    </tr>\n",
       "    <tr>\n",
       "      <th>3</th>\n",
       "      <td>21</td>\n",
       "      <td>A</td>\n",
       "      <td>2</td>\n",
       "    </tr>\n",
       "    <tr>\n",
       "      <th>4</th>\n",
       "      <td>21</td>\n",
       "      <td>B</td>\n",
       "      <td>2</td>\n",
       "    </tr>\n",
       "    <tr>\n",
       "      <th>5</th>\n",
       "      <td>21</td>\n",
       "      <td>C</td>\n",
       "      <td>2</td>\n",
       "    </tr>\n",
       "    <tr>\n",
       "      <th>6</th>\n",
       "      <td>22</td>\n",
       "      <td>B</td>\n",
       "      <td>2</td>\n",
       "    </tr>\n",
       "    <tr>\n",
       "      <th>7</th>\n",
       "      <td>28</td>\n",
       "      <td>C</td>\n",
       "      <td>2</td>\n",
       "    </tr>\n",
       "    <tr>\n",
       "      <th>8</th>\n",
       "      <td>30</td>\n",
       "      <td>A</td>\n",
       "      <td>1</td>\n",
       "    </tr>\n",
       "    <tr>\n",
       "      <th>9</th>\n",
       "      <td>33</td>\n",
       "      <td>A</td>\n",
       "      <td>2</td>\n",
       "    </tr>\n",
       "    <tr>\n",
       "      <th>10</th>\n",
       "      <td>33</td>\n",
       "      <td>B</td>\n",
       "      <td>2</td>\n",
       "    </tr>\n",
       "    <tr>\n",
       "      <th>11</th>\n",
       "      <td>40</td>\n",
       "      <td>C</td>\n",
       "      <td>2</td>\n",
       "    </tr>\n",
       "  </tbody>\n",
       "</table>\n",
       "</div>"
      ],
      "text/plain": [
       "    age device  event_count\n",
       "0    18      A            1\n",
       "1    20      B            4\n",
       "2    20      C            8\n",
       "3    21      A            2\n",
       "4    21      B            2\n",
       "5    21      C            2\n",
       "6    22      B            2\n",
       "7    28      C            2\n",
       "8    30      A            1\n",
       "9    33      A            2\n",
       "10   33      B            2\n",
       "11   40      C            2"
      ]
     },
     "execution_count": 45,
     "metadata": {},
     "output_type": "execute_result"
    }
   ],
   "source": [
    "df_agg = pd.DataFrame({'event_count' : df.groupby( [ \"age\", \"device\"] ).event.nunique()}).reset_index()\n",
    "df_agg.head(20)"
   ]
  },
  {
   "cell_type": "code",
   "execution_count": 43,
   "metadata": {},
   "outputs": [
    {
     "data": {
      "image/png": "[encoded data removed]",
      "text/plain": [
       "<matplotlib.figure.Figure at 0xc9ce198>"
      ]
     },
     "metadata": {},
     "output_type": "display_data"
    }
   ],
   "source": [
    "# on event level data\n",
    "sns.lmplot('event', 'age', data=df, hue='device', fit_reg=False)\n",
    "plt.show()"
   ]
  },
  {
   "cell_type": "code",
   "execution_count": 44,
   "metadata": {},
   "outputs": [
    {
     "data": {
      "image/png": "[encoded data removed]",
      "text/plain": [
       "<matplotlib.figure.Figure at 0xbd47e10>"
      ]
     },
     "metadata": {},
     "output_type": "display_data"
    }
   ],
   "source": [
    "# on aggregated data\n",
    "sns.lmplot('event_count', 'age', data=df_agg, hue='device', fit_reg=False)\n",
    "plt.show()"
   ]
  }
 ],
 "metadata": {
  "kernelspec": {
   "display_name": "Python 2",
   "language": "python",
   "name": "python2"
  },
  "language_info": {
   "codemirror_mode": {
    "name": "ipython",
    "version": 2
   },
   "file_extension": ".py",
   "mimetype": "text/x-python",
   "name": "python",
   "nbconvert_exporter": "python",
   "pygments_lexer": "ipython2",
   "version": "2.7.13"
  }
 },
 "nbformat": 4,
 "nbformat_minor": 2
}
