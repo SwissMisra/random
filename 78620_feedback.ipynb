{
 "cells": [
  {
   "cell_type": "code",
   "execution_count": 2,
   "metadata": {
    "collapsed": false
   },
   "outputs": [],
   "source": [
    "import os\n",
    "import re\n",
    "import pandas as pd\n",
    "from sortedcontainers import SortedList\n",
    "from collections import Counter"
   ]
  },
  {
   "cell_type": "code",
   "execution_count": 9,
   "metadata": {
    "collapsed": true
   },
   "outputs": [],
   "source": [
    "pd.set_option('display.max_rows', 500)\n",
    "pd.set_option('display.max_columns', 500)\n",
    "pd.set_option('display.width', 1000)\n",
    "rootdir = 'C:\\\\Users\\\\Andrew\\\\Documents\\\\Python\\\\SpringBoard\\\\helpscout\\\\78620\\\\Capital-Bikeshare-Rebalancing-master'\n",
    "main_dir = 'C:\\\\Users\\\\Andrew\\\\Documents\\\\Python\\\\SpringBoard\\\\helpscout\\\\78620\\\\Capital-Bikeshare-Rebalancing-master'\n",
    "datadir = 'C:\\\\Users\\\\Andrew\\\\Documents\\\\Python\\\\SpringBoard\\\\helpscout\\\\78620\\\\Capital-Bikeshare-Rebalancing-master\\\\data'\n",
    "bar_delim = '================================================'\n",
    "os.chdir(main_dir)"
   ]
  },
  {
   "cell_type": "code",
   "execution_count": 4,
   "metadata": {
    "collapsed": true
   },
   "outputs": [],
   "source": [
    "#Set the directory and new file creation\n",
    "def openfile(directory, file_name):\n",
    "    os.chdir(directory)\n",
    "    return open(file_name, 'w')\n",
    "\n",
    "#Write the file name, feature names, and header information to a file\n",
    "def create_info_doc(write_to_file, dictionary, delim):\n",
    "    #Sort the dictionary by key for chronological access\n",
    "    sorted_full_data_dict = SortedList()\n",
    "    sorted_full_data_dict.update(list(dictionary.keys()))\n",
    "    \n",
    "    for key in sorted_full_data_dict:\n",
    "        write_to_file.write('File name: ' + key + '\\n')\n",
    "        \n",
    "        write_to_file.write('Column names: ')\n",
    "        for feature in dictionary[key].columns:\n",
    "            write_to_file.write(feature + ', ')\n",
    "\n",
    "        write_to_file.write('\\nDF:\\n' + str(dictionary[key].head()))\n",
    "        write_to_file.write('\\n\\n' + delim + '\\n\\n')\n",
    "\n",
    "#Find the number of unique feature names, counts, and write to file\n",
    "def write_feature_names_counts(write_to_file, dictionary, feature_list = [], reset=False):\n",
    "    if reset == True:\n",
    "        feature_list = []\n",
    "        \n",
    "    #Sort the dictionary by key for chronological access\n",
    "    sorted_full_data_dict = SortedList()\n",
    "    sorted_full_data_dict.update(list(dictionary.keys()))\n",
    "    \n",
    "    for key in list(dictionary.keys()):\n",
    "        for feature in dictionary[key].columns:\n",
    "            feature_list.append(feature)\n",
    "            \n",
    "    write_to_file.write('Unique column names and counts:\\n')\n",
    "    for counted_col in Counter(feature_list):\n",
    "        write_to_file.write(counted_col + ': ' + \n",
    "                              str(Counter(feature_list)[counted_col]) + '\\n')\n",
    "\n",
    "    write_to_file.write('\\n\\nColumn names per separate dataframe:')\n",
    "    for sorted_key in sorted_full_data_dict:\n",
    "        write_to_file.write('\\n' + sorted_key + ': ' + \n",
    "                              str(len(dictionary[sorted_key].columns)) + '\\n')\n",
    "        for feature in dictionary[sorted_key].columns:\n",
    "                write_to_file.write(feature + ', ')"
   ]
  },
  {
   "cell_type": "code",
   "execution_count": 15,
   "metadata": {
    "collapsed": false
   },
   "outputs": [
    {
     "name": "stdout",
     "output_type": "stream",
     "text": [
      "2015-Q3-cabi-trip-history-data.csv\n",
      "2015-Q4-Trips-History-Data.csv\n",
      "2016-Q1-Trips-History-Data.csv\n",
      "2016-Q2-Trips-History-Data.csv\n",
      "2016-Q3-Trips-History-Data-1.csv\n",
      "2016-Q3-Trips-History-Data-2.csv\n"
     ]
    }
   ],
   "source": [
    "full_data_dict = {}\n",
    "#Read in bike share data and create a dictionary to hold all dataframes\n",
    "for subdir, dirs, files in os.walk(datadir):\n",
    "    #print(subdir)\n",
    "    #print(dirs)\n",
    "    #print(files)\n",
    "    for file in files:\n",
    "        #print(file)\n",
    "        os.chdir(subdir)\n",
    "        if '.csv' in file:\n",
    "            name = re.findall(r'([0-9]+[-][Q][0-9])', file)[0]\n",
    "            version = re.findall(r'([-][1-2])', file)\n",
    "            if len(version) > 0:\n",
    "                name += version[0]\n",
    "            full_data_dict[name] = pd.read_csv(file)\n",
    "            print(file)"
   ]
  },
  {
   "cell_type": "code",
   "execution_count": 16,
   "metadata": {
    "collapsed": true
   },
   "outputs": [],
   "source": [
    "#Create the first file, 'full_data_dict info - ORIGINAL.txt', and write to it\n",
    "full_data_dict_file = openfile(main_dir, 'full_data_dict info - ORIGINAL.txt')\n",
    "create_info_doc(full_data_dict_file, full_data_dict, bar_delim)\n",
    "write_feature_names_counts(full_data_dict_file, full_data_dict)\n",
    "full_data_dict_file.close()"
   ]
  },
  {
   "cell_type": "code",
   "execution_count": 29,
   "metadata": {
    "collapsed": false
   },
   "outputs": [
    {
     "name": "stdout",
     "output_type": "stream",
     "text": [
      "                                                     0                               1\n",
      "Duration (ms)                                   492483                          233489\n",
      "Start date                             9/30/2016 23:59                 9/30/2016 23:58\n",
      "End date                                10/1/2016 0:07                  10/1/2016 0:02\n",
      "Start station number                             31047                           31021\n",
      "Start station                        Braddock Rd Metro  Clarendon Blvd & N Fillmore St\n",
      "End station number                               31086                           31028\n",
      "End station           Mount Vernon Ave & E Del Ray Ave             N Veitch & Key Blvd\n",
      "Bike number                                     W20904                          W22741\n",
      "Member Type                                 Registered                      Registered\n"
     ]
    }
   ],
   "source": [
    "# look at some of the data\n",
    "print pd.DataFrame(full_data_dict[name].head(2).transpose())"
   ]
  },
  {
   "cell_type": "code",
   "execution_count": 31,
   "metadata": {
    "collapsed": true
   },
   "outputs": [],
   "source": [
    "#Create a dictionary copy for further edits\n",
    "full_data_dict_edit = full_data_dict.copy()\n",
    "\n",
    "#Partition the file names to access different dataframes independently and rename feature names\n",
    "good_file_names = ['2010-Q4', '2011-Q1', '2011-Q2', '2011-Q3', '2011-Q4', '2012-Q1', '2012-Q2', '2012-Q3', '2012-Q4', '2013-Q1', '2013-Q2', '2013-Q3']\n",
    "global_good_feature_names = ['Duration', 'Start Date', 'End Date', 'Start Station', 'End Station', 'Bike Number', 'Member Type']\n",
    "\n",
    "switched_file_names = ['2013-Q4', '2014-Q1', '2014-Q2', '2014-Q3', '2014-Q4', '2015-Q1', '2015-Q2']\n",
    "global_switched_feature_names = ['Duration', 'Start Date', 'Start Station', 'End Date', 'End Station', 'Bike Number', 'Member Type']\n",
    "\n",
    "additional_features_file_names = ['2015-Q3', '2015-Q4', '2016-Q1', '2016-Q2', '2016-Q3-1', '2016-Q3-2']\n",
    "global_additional_features_file_names = ['Duration', 'Start Date', 'End Date', 'Bike Number', 'Member Type', 'Start Station', 'End Station']\n"
   ]
  },
  {
   "cell_type": "code",
   "execution_count": 32,
   "metadata": {
    "collapsed": false
   },
   "outputs": [
    {
     "name": "stdout",
     "output_type": "stream",
     "text": [
      "('2016-Q1', '-additional-', 1)\n",
      "('2016-Q1', '-additional-', 1)\n",
      "('2016-Q2', '-additional-', 2)\n",
      "('2016-Q2', '-additional-', 2)\n",
      "('2015-Q3', '-additional-', 3)\n",
      "('2015-Q3', '-additional-', 3)\n",
      "('2016-Q3-2', '-additional-', 4)\n",
      "('2016-Q3-2', '-additional-', 4)\n",
      "('2015-Q4', '-additional-', 5)\n",
      "('2015-Q4', '-additional-', 5)\n",
      "('2016-Q3-1', '-additional-', 6)\n",
      "('2016-Q3-1', '-additional-', 6)\n"
     ]
    }
   ],
   "source": [
    "#Change the feature names based on partitions above\n",
    "count = 0\n",
    "for file_name in full_data_dict_edit:\n",
    "    if file_name in good_file_names:\n",
    "        count += 1\n",
    "        full_data_dict_edit[file_name].columns = global_good_feature_names\n",
    "        print(file_name, '-good-', count)                   \n",
    "    elif file_name in switched_file_names:\n",
    "        count += 1\n",
    "        full_data_dict_edit[file_name].columns = global_switched_feature_names\n",
    "        print(file_name, '-switched-', count)                   \n",
    "    elif file_name in additional_features_file_names:\n",
    "        count += 1\n",
    "        full_data_dict_edit[file_name]['Start Station_Number'] = full_data_dict_edit[file_name]['Start station'] + ' (' + full_data_dict_edit[file_name]['Start station number'].astype(str) + ')'\n",
    "        print(file_name, '-additional-', count)                   \n",
    "        full_data_dict_edit[file_name].drop(['Start station', 'Start station number'], inplace=True, axis=1)\n",
    "                      \n",
    "        full_data_dict_edit[file_name]['End Station_Number'] = full_data_dict_edit[file_name]['End station'] + ' (' + full_data_dict_edit[file_name]['End station number'].astype(str) + ')'\n",
    "        print(file_name, '-additional-', count)                   \n",
    "        full_data_dict_edit[file_name].drop(['End station', 'End station number'], inplace=True, axis=1)\n",
    "\n",
    "        full_data_dict_edit[file_name].columns = global_additional_features_file_names"
   ]
  },
  {
   "cell_type": "code",
   "execution_count": 33,
   "metadata": {
    "collapsed": false
   },
   "outputs": [
    {
     "name": "stdout",
     "output_type": "stream",
     "text": [
      "                                          0                       1\n",
      "Duration                             840866                  656098\n",
      "Start Date                  8/31/2016 23:59         8/31/2016 23:58\n",
      "End Date                      9/1/2016 0:13           9/1/2016 0:09\n",
      "Bike Number                          W20409                  W20756\n",
      "Member Type                      Registered              Registered\n",
      "Start Station  15th & Euclid St  NW (31117)  19th & G St NW (31279)\n",
      "End Station           8th & H St NW (31228)   5th & K St NW (31600)\n"
     ]
    }
   ],
   "source": [
    "# look at some of the data\n",
    "print pd.DataFrame(full_data_dict_edit[file_name].head(2).transpose())"
   ]
  },
  {
   "cell_type": "code",
   "execution_count": 34,
   "metadata": {
    "collapsed": true
   },
   "outputs": [],
   "source": [
    "#Create the second file, 'full_data_dict info - EDIT.txt', and write to it\n",
    "full_data_dict_file = openfile(main_dir, 'full_data_dict info - EDIT.txt')\n",
    "create_info_doc(full_data_dict_file, full_data_dict_edit, bar_delim) \n",
    "write_feature_names_counts(full_data_dict_file, full_data_dict_edit, reset=True)\n",
    "full_data_dict_file.close()"
   ]
  },
  {
   "cell_type": "code",
   "execution_count": 35,
   "metadata": {
    "collapsed": true
   },
   "outputs": [],
   "source": [
    "#Create a mapable regex function to find zipcodes in station features\n",
    "find_zip = lambda x: re.findall(r'[0-9]+', x)"
   ]
  },
  {
   "cell_type": "code",
   "execution_count": 36,
   "metadata": {
    "collapsed": false
   },
   "outputs": [
    {
     "name": "stdout",
     "output_type": "stream",
     "text": [
      "('2015-Q3', '-start-', 1)\n",
      "('2015-Q3', '-end-', 1)\n",
      "('2015-Q4', '-start-', 2)\n",
      "('2015-Q4', '-end-', 2)\n",
      "('2016-Q1', '-start-', 3)\n",
      "('2016-Q1', '-end-', 3)\n",
      "('2016-Q2', '-start-', 4)\n",
      "('2016-Q2', '-end-', 4)\n",
      "('2016-Q3-1', '-start-', 5)\n",
      "('2016-Q3-1', '-end-', 5)\n",
      "('2016-Q3-2', '-start-', 6)\n",
      "('2016-Q3-2', '-end-', 6)\n"
     ]
    }
   ],
   "source": [
    "#Create new features in each data frame for Start Zip and End Zip\n",
    "sorted_full_data_dict_edit = SortedList()\n",
    "sorted_full_data_dict_edit.update(list(full_data_dict_edit.keys()))\n",
    "count=0\n",
    "for file in sorted_full_data_dict_edit:\n",
    "    count += 1\n",
    "    for feature in full_data_dict_edit[file]: \n",
    "        if feature == 'Start Station':\n",
    "            full_data_dict_edit[file]['Start Zip'] = full_data_dict_edit[file][feature].astype(str).map(find_zip)\n",
    "            print(file, '-start-', count)\n",
    "            \n",
    "        elif feature == 'End Station':\n",
    "            full_data_dict_edit[file]['End Zip'] = full_data_dict_edit[file][feature].astype(str).map(find_zip)\n",
    "            print(file, '-end-', count)"
   ]
  },
  {
   "cell_type": "code",
   "execution_count": 38,
   "metadata": {
    "collapsed": false
   },
   "outputs": [
    {
     "name": "stdout",
     "output_type": "stream",
     "text": [
      "                                                     0                                       1\n",
      "Duration                                        844108                                  149995\n",
      "Start Date                               4/1/2016 0:00                           4/1/2016 0:00\n",
      "End Date                                 4/1/2016 0:14                           4/1/2016 0:02\n",
      "Bike Number                                     W20351                                  W00443\n",
      "Member Type                                     Casual                              Registered\n",
      "Start Station        Jefferson Dr & 14th St SW (31247)  17th St & Massachusetts Ave NW (31267)\n",
      "End Station    Columbus Circle / Union Station (31623)           17th & Corcoran St NW (31214)\n",
      "Start Zip                                  [14, 31247]                             [17, 31267]\n",
      "End Zip                                        [31623]                             [17, 31214]\n"
     ]
    }
   ],
   "source": [
    "# look at some of the data\n",
    "print pd.DataFrame(full_data_dict_edit['2016-Q2'].head(2).transpose())"
   ]
  },
  {
   "cell_type": "code",
   "execution_count": 39,
   "metadata": {
    "collapsed": true
   },
   "outputs": [],
   "source": [
    "#Create the third file, 'Create Zipcodes.txt', and write to it\n",
    "create_zip_file = openfile(main_dir, 'Create Zipcodes.txt')\n",
    "create_info_doc(create_zip_file, full_data_dict_edit, bar_delim) \n",
    "write_feature_names_counts(create_zip_file, full_data_dict_edit, reset=True)\n",
    "create_zip_file.close()"
   ]
  },
  {
   "cell_type": "code",
   "execution_count": null,
   "metadata": {
    "collapsed": true
   },
   "outputs": [],
   "source": []
  },
  {
   "cell_type": "code",
   "execution_count": null,
   "metadata": {
    "collapsed": true
   },
   "outputs": [],
   "source": []
  },
  {
   "cell_type": "code",
   "execution_count": null,
   "metadata": {
    "collapsed": true
   },
   "outputs": [],
   "source": []
  },
  {
   "cell_type": "code",
   "execution_count": null,
   "metadata": {
    "collapsed": true
   },
   "outputs": [],
   "source": []
  },
  {
   "cell_type": "code",
   "execution_count": null,
   "metadata": {
    "collapsed": true
   },
   "outputs": [],
   "source": []
  },
  {
   "cell_type": "code",
   "execution_count": null,
   "metadata": {
    "collapsed": true
   },
   "outputs": [],
   "source": []
  },
  {
   "cell_type": "code",
   "execution_count": null,
   "metadata": {
    "collapsed": true
   },
   "outputs": [],
   "source": []
  }
 ],
 "metadata": {
  "kernelspec": {
   "display_name": "Python 2",
   "language": "python",
   "name": "python2"
  },
  "language_info": {
   "codemirror_mode": {
    "name": "ipython",
    "version": 2
   },
   "file_extension": ".py",
   "mimetype": "text/x-python",
   "name": "python",
   "nbconvert_exporter": "python",
   "pygments_lexer": "ipython2",
   "version": "2.7.13"
  }
 },
 "nbformat": 4,
 "nbformat_minor": 2
}
