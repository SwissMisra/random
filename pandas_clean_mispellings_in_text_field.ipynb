{
 "cells": [
  {
   "cell_type": "code",
   "execution_count": 1,
   "metadata": {
    "ExecuteTime": {
     "end_time": "2018-01-29T12:36:20.681976Z",
     "start_time": "2018-01-29T12:36:19.916485Z"
    },
    "collapsed": true
   },
   "outputs": [],
   "source": [
    "import pandas as pd\n",
    "import re"
   ]
  },
  {
   "cell_type": "code",
   "execution_count": 2,
   "metadata": {
    "ExecuteTime": {
     "end_time": "2018-01-29T12:36:20.726042Z",
     "start_time": "2018-01-29T12:36:20.685479Z"
    }
   },
   "outputs": [
    {
     "data": {
      "text/html": [
       "<div>\n",
       "<style>\n",
       "    .dataframe thead tr:only-child th {\n",
       "        text-align: right;\n",
       "    }\n",
       "\n",
       "    .dataframe thead th {\n",
       "        text-align: left;\n",
       "    }\n",
       "\n",
       "    .dataframe tbody tr th {\n",
       "        vertical-align: top;\n",
       "    }\n",
       "</style>\n",
       "<table border=\"1\" class=\"dataframe\">\n",
       "  <thead>\n",
       "    <tr style=\"text-align: right;\">\n",
       "      <th></th>\n",
       "      <th>text_field</th>\n",
       "    </tr>\n",
       "  </thead>\n",
       "  <tbody>\n",
       "    <tr>\n",
       "      <th>0</th>\n",
       "      <td>I love my checy so much. Go CHEVE!</td>\n",
       "    </tr>\n",
       "    <tr>\n",
       "      <th>1</th>\n",
       "      <td>TOYOYTA are the best! I got a new toota</td>\n",
       "    </tr>\n",
       "    <tr>\n",
       "      <th>2</th>\n",
       "      <td>CHEVE</td>\n",
       "    </tr>\n",
       "  </tbody>\n",
       "</table>\n",
       "</div>"
      ],
      "text/plain": [
       "                                text_field\n",
       "0       I love my checy so much. Go CHEVE!\n",
       "1  TOYOYTA are the best! I got a new toota\n",
       "2                                    CHEVE"
      ]
     },
     "execution_count": 2,
     "metadata": {},
     "output_type": "execute_result"
    }
   ],
   "source": [
    "df = pd.DataFrame(data={'text_field': ['I love my checy so much. Go CHEVE!', 'TOYOYTA are the best! I got a new toota','CHEVE']})\n",
    "df.head()"
   ]
  },
  {
   "cell_type": "code",
   "execution_count": 3,
   "metadata": {
    "ExecuteTime": {
     "end_time": "2018-01-29T12:36:20.763081Z",
     "start_time": "2018-01-29T12:36:20.732046Z"
    },
    "collapsed": true
   },
   "outputs": [],
   "source": [
    "def clean_text_field(field_name,in_list,to_value):\n",
    "    \"\"\"Function to clean up text fields in df based on pattern matching\"\"\"\n",
    "    in_list.sort(key = len, reverse=True) # sort list from longest to shortest to minimise risk of overlap\n",
    "    in_list_regex = '|'.join(in_list) # join it into a regex 'OR' type operator\n",
    "    regex_pat = re.compile(in_list_regex, flags=re.IGNORECASE) # complie the regex\n",
    "    df[field_name] = df[field_name].str.replace(regex_pat,to_value) # clean the field in the df"
   ]
  },
  {
   "cell_type": "code",
   "execution_count": 4,
   "metadata": {
    "ExecuteTime": {
     "end_time": "2018-01-29T12:36:20.801128Z",
     "start_time": "2018-01-29T12:36:20.768084Z"
    },
    "collapsed": true
   },
   "outputs": [],
   "source": [
    "# list of mispellings for chevrolet\n",
    "chevrolet = ['CHEVY', 'CHEV', 'CHEVEROLET', 'CHEVORLET', 'CHEVEY', 'CHEVE', 'CEHVY', \n",
    "        'CHEVERLOT', 'CHEVRLET', 'CHEVYROLET', 'CHEVOLET', 'CHVROLET', 'CHEVR', \n",
    "        'CHECY', 'CHEVR', 'CEHVROLET', 'CHEVROLEY', 'CEVROLET', 'CHVY', 'CEHV', 'CHEROLET']\n",
    "# list of mispellings for toyota\n",
    "toyota = ['TOYOT', 'TOYT', 'TOYO', 'TOYOA', 'TOY', 'TOYTA', 'TOYOYA', 'TOTOTA', 'TOYO', 'TOTY', 'TOYTOA', 'TYOTA', 'TOTOYA', \n",
    "          'TOYTOTA', 'TOYOA', 'TOYOYTA', 'TOYOTSA', 'TOYORA', 'TOYOTOA', 'TOTYOTA', 'YOYOTA', 'TOOTA', 'TOYOAT', 'TOUOTA', 'TOYA',\n",
    "          'TOY0TA', 'TOOYOTA', 'TOYOTO', 'TOYTO', 'TOYATA', 'TOYPTA', 'TPYOTA', 'TOT']"
   ]
  },
  {
   "cell_type": "code",
   "execution_count": 5,
   "metadata": {
    "ExecuteTime": {
     "end_time": "2018-01-29T12:36:20.845188Z",
     "start_time": "2018-01-29T12:36:20.805631Z"
    }
   },
   "outputs": [
    {
     "data": {
      "text/html": [
       "<div>\n",
       "<style>\n",
       "    .dataframe thead tr:only-child th {\n",
       "        text-align: right;\n",
       "    }\n",
       "\n",
       "    .dataframe thead th {\n",
       "        text-align: left;\n",
       "    }\n",
       "\n",
       "    .dataframe tbody tr th {\n",
       "        vertical-align: top;\n",
       "    }\n",
       "</style>\n",
       "<table border=\"1\" class=\"dataframe\">\n",
       "  <thead>\n",
       "    <tr style=\"text-align: right;\">\n",
       "      <th></th>\n",
       "      <th>text_field</th>\n",
       "    </tr>\n",
       "  </thead>\n",
       "  <tbody>\n",
       "    <tr>\n",
       "      <th>0</th>\n",
       "      <td>I love my checy so much. Go CHEVE!</td>\n",
       "    </tr>\n",
       "    <tr>\n",
       "      <th>1</th>\n",
       "      <td>TOYOYTA are the best! I got a new toota</td>\n",
       "    </tr>\n",
       "    <tr>\n",
       "      <th>2</th>\n",
       "      <td>CHEVE</td>\n",
       "    </tr>\n",
       "  </tbody>\n",
       "</table>\n",
       "</div>"
      ],
      "text/plain": [
       "                                text_field\n",
       "0       I love my checy so much. Go CHEVE!\n",
       "1  TOYOYTA are the best! I got a new toota\n",
       "2                                    CHEVE"
      ]
     },
     "execution_count": 5,
     "metadata": {},
     "output_type": "execute_result"
    }
   ],
   "source": [
    "df.head()"
   ]
  },
  {
   "cell_type": "code",
   "execution_count": 6,
   "metadata": {
    "ExecuteTime": {
     "end_time": "2018-01-29T12:36:20.891220Z",
     "start_time": "2018-01-29T12:36:20.851193Z"
    },
    "collapsed": true
   },
   "outputs": [],
   "source": [
    "clean_text_field('text_field',chevrolet,'Chevrolet')\n",
    "clean_text_field('text_field',toyota,'Toyota')"
   ]
  },
  {
   "cell_type": "code",
   "execution_count": 7,
   "metadata": {
    "ExecuteTime": {
     "end_time": "2018-01-29T12:36:20.921242Z",
     "start_time": "2018-01-29T12:36:20.896726Z"
    }
   },
   "outputs": [
    {
     "data": {
      "text/html": [
       "<div>\n",
       "<style>\n",
       "    .dataframe thead tr:only-child th {\n",
       "        text-align: right;\n",
       "    }\n",
       "\n",
       "    .dataframe thead th {\n",
       "        text-align: left;\n",
       "    }\n",
       "\n",
       "    .dataframe tbody tr th {\n",
       "        vertical-align: top;\n",
       "    }\n",
       "</style>\n",
       "<table border=\"1\" class=\"dataframe\">\n",
       "  <thead>\n",
       "    <tr style=\"text-align: right;\">\n",
       "      <th></th>\n",
       "      <th>text_field</th>\n",
       "    </tr>\n",
       "  </thead>\n",
       "  <tbody>\n",
       "    <tr>\n",
       "      <th>0</th>\n",
       "      <td>I love my Chevrolet so much. Go Chevrolet!</td>\n",
       "    </tr>\n",
       "    <tr>\n",
       "      <th>1</th>\n",
       "      <td>Toyota are the best! I got a new Toyota</td>\n",
       "    </tr>\n",
       "    <tr>\n",
       "      <th>2</th>\n",
       "      <td>Chevrolet</td>\n",
       "    </tr>\n",
       "  </tbody>\n",
       "</table>\n",
       "</div>"
      ],
      "text/plain": [
       "                                   text_field\n",
       "0  I love my Chevrolet so much. Go Chevrolet!\n",
       "1     Toyota are the best! I got a new Toyota\n",
       "2                                   Chevrolet"
      ]
     },
     "execution_count": 7,
     "metadata": {},
     "output_type": "execute_result"
    }
   ],
   "source": [
    "df.head()"
   ]
  }
 ],
 "metadata": {
  "kernelspec": {
   "display_name": "Python 3",
   "language": "python",
   "name": "python3"
  },
  "language_info": {
   "codemirror_mode": {
    "name": "ipython",
    "version": 3
   },
   "file_extension": ".py",
   "mimetype": "text/x-python",
   "name": "python",
   "nbconvert_exporter": "python",
   "pygments_lexer": "ipython3",
   "version": "3.6.3"
  },
  "toc": {
   "colors": {
    "hover_highlight": "#DAA520",
    "navigate_num": "#000000",
    "navigate_text": "#333333",
    "running_highlight": "#FF0000",
    "selected_highlight": "#FFD700",
    "sidebar_border": "#EEEEEE",
    "wrapper_background": "#FFFFFF"
   },
   "moveMenuLeft": true,
   "nav_menu": {
    "height": "4px",
    "width": "254px"
   },
   "navigate_menu": true,
   "number_sections": true,
   "sideBar": true,
   "threshold": 4,
   "toc_cell": false,
   "toc_section_display": "block",
   "toc_window_display": false,
   "widenNotebook": false
  },
  "varInspector": {
   "cols": {
    "lenName": 16,
    "lenType": 16,
    "lenVar": 40
   },
   "kernels_config": {
    "python": {
     "delete_cmd_postfix": "",
     "delete_cmd_prefix": "del ",
     "library": "var_list.py",
     "varRefreshCmd": "print(var_dic_list())"
    },
    "r": {
     "delete_cmd_postfix": ") ",
     "delete_cmd_prefix": "rm(",
     "library": "var_list.r",
     "varRefreshCmd": "cat(var_dic_list()) "
    }
   },
   "types_to_exclude": [
    "module",
    "function",
    "builtin_function_or_method",
    "instance",
    "_Feature"
   ],
   "window_display": false
  }
 },
 "nbformat": 4,
 "nbformat_minor": 2
}
