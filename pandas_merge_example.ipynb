{
 "cells": [
  {
   "cell_type": "code",
   "execution_count": 14,
   "metadata": {
    "ExecuteTime": {
     "end_time": "2017-10-02T10:36:00.531273Z",
     "start_time": "2017-10-02T10:36:00.526784Z"
    },
    "collapsed": true
   },
   "outputs": [],
   "source": [
    "import pandas as pd"
   ]
  },
  {
   "cell_type": "code",
   "execution_count": 15,
   "metadata": {
    "ExecuteTime": {
     "end_time": "2017-10-02T10:36:00.569825Z",
     "start_time": "2017-10-02T10:36:00.538776Z"
    }
   },
   "outputs": [
    {
     "data": {
      "text/html": [
       "<div>\n",
       "<style>\n",
       "    .dataframe thead tr:only-child th {\n",
       "        text-align: right;\n",
       "    }\n",
       "\n",
       "    .dataframe thead th {\n",
       "        text-align: left;\n",
       "    }\n",
       "\n",
       "    .dataframe tbody tr th {\n",
       "        vertical-align: top;\n",
       "    }\n",
       "</style>\n",
       "<table border=\"1\" class=\"dataframe\">\n",
       "  <thead>\n",
       "    <tr style=\"text-align: right;\">\n",
       "      <th></th>\n",
       "      <th>Geo_Name</th>\n",
       "      <th>Survey_Year</th>\n",
       "      <th>Tax_Type</th>\n",
       "      <th>Amount</th>\n",
       "    </tr>\n",
       "  </thead>\n",
       "  <tbody>\n",
       "    <tr>\n",
       "      <th>0</th>\n",
       "      <td>United States</td>\n",
       "      <td>2016</td>\n",
       "      <td>Total Taxes</td>\n",
       "      <td>930,263,745</td>\n",
       "    </tr>\n",
       "    <tr>\n",
       "      <th>1</th>\n",
       "      <td>United States</td>\n",
       "      <td>2016</td>\n",
       "      <td>Property Taxes</td>\n",
       "      <td>18,364,298</td>\n",
       "    </tr>\n",
       "    <tr>\n",
       "      <th>2</th>\n",
       "      <td>United States</td>\n",
       "      <td>2016</td>\n",
       "      <td>Sales and Gross Receipts Taxes</td>\n",
       "      <td>442,909,995</td>\n",
       "    </tr>\n",
       "    <tr>\n",
       "      <th>3</th>\n",
       "      <td>United States</td>\n",
       "      <td>2016</td>\n",
       "      <td>License Taxes</td>\n",
       "      <td>52,164,396</td>\n",
       "    </tr>\n",
       "    <tr>\n",
       "      <th>4</th>\n",
       "      <td>United States</td>\n",
       "      <td>2016</td>\n",
       "      <td>Income Taxes</td>\n",
       "      <td>392,286,910</td>\n",
       "    </tr>\n",
       "  </tbody>\n",
       "</table>\n",
       "</div>"
      ],
      "text/plain": [
       "        Geo_Name  Survey_Year                        Tax_Type       Amount\n",
       "0  United States         2016                     Total Taxes  930,263,745\n",
       "1  United States         2016                  Property Taxes   18,364,298\n",
       "2  United States         2016  Sales and Gross Receipts Taxes  442,909,995\n",
       "3  United States         2016                   License Taxes   52,164,396\n",
       "4  United States         2016                    Income Taxes  392,286,910"
      ]
     },
     "execution_count": 15,
     "metadata": {},
     "output_type": "execute_result"
    }
   ],
   "source": [
    "df = pd.read_csv(\"C://Users/Andrew/Downloads/fy2016_stc_category-xls.csv\")\n",
    "df.head()"
   ]
  },
  {
   "cell_type": "code",
   "execution_count": 16,
   "metadata": {
    "ExecuteTime": {
     "end_time": "2017-10-02T10:36:00.587345Z",
     "start_time": "2017-10-02T10:36:00.572825Z"
    }
   },
   "outputs": [],
   "source": [
    "df['geo_level'] = df['Geo_Name'].apply(lambda x: 'national' if x == 'United States' else 'state')"
   ]
  },
  {
   "cell_type": "code",
   "execution_count": 17,
   "metadata": {
    "ExecuteTime": {
     "end_time": "2017-10-02T10:36:00.655482Z",
     "start_time": "2017-10-02T10:36:00.591349Z"
    }
   },
   "outputs": [
    {
     "data": {
      "text/html": [
       "<div>\n",
       "<style>\n",
       "    .dataframe thead tr:only-child th {\n",
       "        text-align: right;\n",
       "    }\n",
       "\n",
       "    .dataframe thead th {\n",
       "        text-align: left;\n",
       "    }\n",
       "\n",
       "    .dataframe tbody tr th {\n",
       "        vertical-align: top;\n",
       "    }\n",
       "</style>\n",
       "<table border=\"1\" class=\"dataframe\">\n",
       "  <thead>\n",
       "    <tr style=\"text-align: right;\">\n",
       "      <th></th>\n",
       "      <th>Geo_Name</th>\n",
       "      <th>Survey_Year</th>\n",
       "      <th>Tax_Type</th>\n",
       "      <th>Amount</th>\n",
       "      <th>geo_level</th>\n",
       "    </tr>\n",
       "  </thead>\n",
       "  <tbody>\n",
       "    <tr>\n",
       "      <th>count</th>\n",
       "      <td>312</td>\n",
       "      <td>312.0</td>\n",
       "      <td>312</td>\n",
       "      <td>312</td>\n",
       "      <td>312</td>\n",
       "    </tr>\n",
       "    <tr>\n",
       "      <th>unique</th>\n",
       "      <td>52</td>\n",
       "      <td>NaN</td>\n",
       "      <td>6</td>\n",
       "      <td>296</td>\n",
       "      <td>2</td>\n",
       "    </tr>\n",
       "    <tr>\n",
       "      <th>top</th>\n",
       "      <td>United States</td>\n",
       "      <td>NaN</td>\n",
       "      <td>Total Taxes</td>\n",
       "      <td>X</td>\n",
       "      <td>state</td>\n",
       "    </tr>\n",
       "    <tr>\n",
       "      <th>freq</th>\n",
       "      <td>6</td>\n",
       "      <td>NaN</td>\n",
       "      <td>52</td>\n",
       "      <td>17</td>\n",
       "      <td>306</td>\n",
       "    </tr>\n",
       "    <tr>\n",
       "      <th>mean</th>\n",
       "      <td>NaN</td>\n",
       "      <td>2016.0</td>\n",
       "      <td>NaN</td>\n",
       "      <td>NaN</td>\n",
       "      <td>NaN</td>\n",
       "    </tr>\n",
       "    <tr>\n",
       "      <th>std</th>\n",
       "      <td>NaN</td>\n",
       "      <td>0.0</td>\n",
       "      <td>NaN</td>\n",
       "      <td>NaN</td>\n",
       "      <td>NaN</td>\n",
       "    </tr>\n",
       "    <tr>\n",
       "      <th>min</th>\n",
       "      <td>NaN</td>\n",
       "      <td>2016.0</td>\n",
       "      <td>NaN</td>\n",
       "      <td>NaN</td>\n",
       "      <td>NaN</td>\n",
       "    </tr>\n",
       "    <tr>\n",
       "      <th>25%</th>\n",
       "      <td>NaN</td>\n",
       "      <td>2016.0</td>\n",
       "      <td>NaN</td>\n",
       "      <td>NaN</td>\n",
       "      <td>NaN</td>\n",
       "    </tr>\n",
       "    <tr>\n",
       "      <th>50%</th>\n",
       "      <td>NaN</td>\n",
       "      <td>2016.0</td>\n",
       "      <td>NaN</td>\n",
       "      <td>NaN</td>\n",
       "      <td>NaN</td>\n",
       "    </tr>\n",
       "    <tr>\n",
       "      <th>75%</th>\n",
       "      <td>NaN</td>\n",
       "      <td>2016.0</td>\n",
       "      <td>NaN</td>\n",
       "      <td>NaN</td>\n",
       "      <td>NaN</td>\n",
       "    </tr>\n",
       "    <tr>\n",
       "      <th>max</th>\n",
       "      <td>NaN</td>\n",
       "      <td>2016.0</td>\n",
       "      <td>NaN</td>\n",
       "      <td>NaN</td>\n",
       "      <td>NaN</td>\n",
       "    </tr>\n",
       "  </tbody>\n",
       "</table>\n",
       "</div>"
      ],
      "text/plain": [
       "             Geo_Name  Survey_Year     Tax_Type Amount geo_level\n",
       "count             312        312.0          312    312       312\n",
       "unique             52          NaN            6    296         2\n",
       "top     United States          NaN  Total Taxes      X     state\n",
       "freq                6          NaN           52     17       306\n",
       "mean              NaN       2016.0          NaN    NaN       NaN\n",
       "std               NaN          0.0          NaN    NaN       NaN\n",
       "min               NaN       2016.0          NaN    NaN       NaN\n",
       "25%               NaN       2016.0          NaN    NaN       NaN\n",
       "50%               NaN       2016.0          NaN    NaN       NaN\n",
       "75%               NaN       2016.0          NaN    NaN       NaN\n",
       "max               NaN       2016.0          NaN    NaN       NaN"
      ]
     },
     "execution_count": 17,
     "metadata": {},
     "output_type": "execute_result"
    }
   ],
   "source": [
    "df.describe(include='all')"
   ]
  },
  {
   "cell_type": "code",
   "execution_count": 18,
   "metadata": {
    "ExecuteTime": {
     "end_time": "2017-10-02T10:36:00.692530Z",
     "start_time": "2017-10-02T10:36:00.658483Z"
    }
   },
   "outputs": [
    {
     "data": {
      "text/html": [
       "<div>\n",
       "<style>\n",
       "    .dataframe thead tr:only-child th {\n",
       "        text-align: right;\n",
       "    }\n",
       "\n",
       "    .dataframe thead th {\n",
       "        text-align: left;\n",
       "    }\n",
       "\n",
       "    .dataframe tbody tr th {\n",
       "        vertical-align: top;\n",
       "    }\n",
       "</style>\n",
       "<table border=\"1\" class=\"dataframe\">\n",
       "  <thead>\n",
       "    <tr style=\"text-align: right;\">\n",
       "      <th></th>\n",
       "      <th>Geo_Name</th>\n",
       "      <th>Survey_Year</th>\n",
       "      <th>Tax_Type</th>\n",
       "      <th>Amount</th>\n",
       "      <th>geo_level</th>\n",
       "    </tr>\n",
       "  </thead>\n",
       "  <tbody>\n",
       "    <tr>\n",
       "      <th>0</th>\n",
       "      <td>United States</td>\n",
       "      <td>2016</td>\n",
       "      <td>Total Taxes</td>\n",
       "      <td>930,263,745</td>\n",
       "      <td>national</td>\n",
       "    </tr>\n",
       "    <tr>\n",
       "      <th>1</th>\n",
       "      <td>United States</td>\n",
       "      <td>2016</td>\n",
       "      <td>Property Taxes</td>\n",
       "      <td>18,364,298</td>\n",
       "      <td>national</td>\n",
       "    </tr>\n",
       "    <tr>\n",
       "      <th>2</th>\n",
       "      <td>United States</td>\n",
       "      <td>2016</td>\n",
       "      <td>Sales and Gross Receipts Taxes</td>\n",
       "      <td>442,909,995</td>\n",
       "      <td>national</td>\n",
       "    </tr>\n",
       "    <tr>\n",
       "      <th>3</th>\n",
       "      <td>United States</td>\n",
       "      <td>2016</td>\n",
       "      <td>License Taxes</td>\n",
       "      <td>52,164,396</td>\n",
       "      <td>national</td>\n",
       "    </tr>\n",
       "    <tr>\n",
       "      <th>4</th>\n",
       "      <td>United States</td>\n",
       "      <td>2016</td>\n",
       "      <td>Income Taxes</td>\n",
       "      <td>392,286,910</td>\n",
       "      <td>national</td>\n",
       "    </tr>\n",
       "  </tbody>\n",
       "</table>\n",
       "</div>"
      ],
      "text/plain": [
       "        Geo_Name  Survey_Year                        Tax_Type       Amount  \\\n",
       "0  United States         2016                     Total Taxes  930,263,745   \n",
       "1  United States         2016                  Property Taxes   18,364,298   \n",
       "2  United States         2016  Sales and Gross Receipts Taxes  442,909,995   \n",
       "3  United States         2016                   License Taxes   52,164,396   \n",
       "4  United States         2016                    Income Taxes  392,286,910   \n",
       "\n",
       "  geo_level  \n",
       "0  national  \n",
       "1  national  \n",
       "2  national  \n",
       "3  national  \n",
       "4  national  "
      ]
     },
     "execution_count": 18,
     "metadata": {},
     "output_type": "execute_result"
    }
   ],
   "source": [
    "df_national = df.loc[(df['geo_level'] == 'national')]\n",
    "df_national.head()"
   ]
  },
  {
   "cell_type": "code",
   "execution_count": 19,
   "metadata": {
    "ExecuteTime": {
     "end_time": "2017-10-02T10:36:00.742088Z",
     "start_time": "2017-10-02T10:36:00.698535Z"
    }
   },
   "outputs": [
    {
     "data": {
      "text/html": [
       "<div>\n",
       "<style>\n",
       "    .dataframe thead tr:only-child th {\n",
       "        text-align: right;\n",
       "    }\n",
       "\n",
       "    .dataframe thead th {\n",
       "        text-align: left;\n",
       "    }\n",
       "\n",
       "    .dataframe tbody tr th {\n",
       "        vertical-align: top;\n",
       "    }\n",
       "</style>\n",
       "<table border=\"1\" class=\"dataframe\">\n",
       "  <thead>\n",
       "    <tr style=\"text-align: right;\">\n",
       "      <th></th>\n",
       "      <th>Geo_Name</th>\n",
       "      <th>Survey_Year</th>\n",
       "      <th>Tax_Type</th>\n",
       "      <th>Amount</th>\n",
       "      <th>geo_level</th>\n",
       "    </tr>\n",
       "  </thead>\n",
       "  <tbody>\n",
       "    <tr>\n",
       "      <th>6</th>\n",
       "      <td>Alabama</td>\n",
       "      <td>2016</td>\n",
       "      <td>Total Taxes</td>\n",
       "      <td>9,919,794</td>\n",
       "      <td>state</td>\n",
       "    </tr>\n",
       "    <tr>\n",
       "      <th>7</th>\n",
       "      <td>Alabama</td>\n",
       "      <td>2016</td>\n",
       "      <td>Property Taxes</td>\n",
       "      <td>346,277</td>\n",
       "      <td>state</td>\n",
       "    </tr>\n",
       "    <tr>\n",
       "      <th>8</th>\n",
       "      <td>Alabama</td>\n",
       "      <td>2016</td>\n",
       "      <td>Sales and Gross Receipts Taxes</td>\n",
       "      <td>5,106,102</td>\n",
       "      <td>state</td>\n",
       "    </tr>\n",
       "    <tr>\n",
       "      <th>9</th>\n",
       "      <td>Alabama</td>\n",
       "      <td>2016</td>\n",
       "      <td>License Taxes</td>\n",
       "      <td>507,479</td>\n",
       "      <td>state</td>\n",
       "    </tr>\n",
       "    <tr>\n",
       "      <th>10</th>\n",
       "      <td>Alabama</td>\n",
       "      <td>2016</td>\n",
       "      <td>Income Taxes</td>\n",
       "      <td>3,869,584</td>\n",
       "      <td>state</td>\n",
       "    </tr>\n",
       "  </tbody>\n",
       "</table>\n",
       "</div>"
      ],
      "text/plain": [
       "   Geo_Name  Survey_Year                        Tax_Type     Amount geo_level\n",
       "6   Alabama         2016                     Total Taxes  9,919,794     state\n",
       "7   Alabama         2016                  Property Taxes    346,277     state\n",
       "8   Alabama         2016  Sales and Gross Receipts Taxes  5,106,102     state\n",
       "9   Alabama         2016                   License Taxes    507,479     state\n",
       "10  Alabama         2016                    Income Taxes  3,869,584     state"
      ]
     },
     "execution_count": 19,
     "metadata": {},
     "output_type": "execute_result"
    }
   ],
   "source": [
    "df_state = df.loc[(df['geo_level'] == 'state')]\n",
    "df_state.head()"
   ]
  },
  {
   "cell_type": "code",
   "execution_count": 20,
   "metadata": {
    "ExecuteTime": {
     "end_time": "2017-10-02T10:36:00.798717Z",
     "start_time": "2017-10-02T10:36:00.749124Z"
    }
   },
   "outputs": [
    {
     "data": {
      "text/html": [
       "<div>\n",
       "<style>\n",
       "    .dataframe thead tr:only-child th {\n",
       "        text-align: right;\n",
       "    }\n",
       "\n",
       "    .dataframe thead th {\n",
       "        text-align: left;\n",
       "    }\n",
       "\n",
       "    .dataframe tbody tr th {\n",
       "        vertical-align: top;\n",
       "    }\n",
       "</style>\n",
       "<table border=\"1\" class=\"dataframe\">\n",
       "  <thead>\n",
       "    <tr style=\"text-align: right;\">\n",
       "      <th></th>\n",
       "      <th>Geo_Name_state</th>\n",
       "      <th>Survey_Year</th>\n",
       "      <th>Tax_Type</th>\n",
       "      <th>Amount_state</th>\n",
       "      <th>geo_level_state</th>\n",
       "      <th>Geo_Name_national</th>\n",
       "      <th>Amount_national</th>\n",
       "      <th>geo_level_national</th>\n",
       "    </tr>\n",
       "  </thead>\n",
       "  <tbody>\n",
       "    <tr>\n",
       "      <th>0</th>\n",
       "      <td>Alabama</td>\n",
       "      <td>2016</td>\n",
       "      <td>Total Taxes</td>\n",
       "      <td>9,919,794</td>\n",
       "      <td>state</td>\n",
       "      <td>United States</td>\n",
       "      <td>930,263,745</td>\n",
       "      <td>national</td>\n",
       "    </tr>\n",
       "    <tr>\n",
       "      <th>1</th>\n",
       "      <td>Alaska</td>\n",
       "      <td>2016</td>\n",
       "      <td>Total Taxes</td>\n",
       "      <td>1,042,164</td>\n",
       "      <td>state</td>\n",
       "      <td>United States</td>\n",
       "      <td>930,263,745</td>\n",
       "      <td>national</td>\n",
       "    </tr>\n",
       "    <tr>\n",
       "      <th>2</th>\n",
       "      <td>Arizona</td>\n",
       "      <td>2016</td>\n",
       "      <td>Total Taxes</td>\n",
       "      <td>14,676,375</td>\n",
       "      <td>state</td>\n",
       "      <td>United States</td>\n",
       "      <td>930,263,745</td>\n",
       "      <td>national</td>\n",
       "    </tr>\n",
       "    <tr>\n",
       "      <th>3</th>\n",
       "      <td>Arkansas</td>\n",
       "      <td>2016</td>\n",
       "      <td>Total Taxes</td>\n",
       "      <td>9,452,883</td>\n",
       "      <td>state</td>\n",
       "      <td>United States</td>\n",
       "      <td>930,263,745</td>\n",
       "      <td>national</td>\n",
       "    </tr>\n",
       "    <tr>\n",
       "      <th>4</th>\n",
       "      <td>California</td>\n",
       "      <td>2016</td>\n",
       "      <td>Total Taxes</td>\n",
       "      <td>155,231,252</td>\n",
       "      <td>state</td>\n",
       "      <td>United States</td>\n",
       "      <td>930,263,745</td>\n",
       "      <td>national</td>\n",
       "    </tr>\n",
       "  </tbody>\n",
       "</table>\n",
       "</div>"
      ],
      "text/plain": [
       "  Geo_Name_state  Survey_Year     Tax_Type Amount_state geo_level_state  \\\n",
       "0        Alabama         2016  Total Taxes    9,919,794           state   \n",
       "1         Alaska         2016  Total Taxes    1,042,164           state   \n",
       "2        Arizona         2016  Total Taxes   14,676,375           state   \n",
       "3       Arkansas         2016  Total Taxes    9,452,883           state   \n",
       "4     California         2016  Total Taxes  155,231,252           state   \n",
       "\n",
       "  Geo_Name_national Amount_national geo_level_national  \n",
       "0     United States     930,263,745           national  \n",
       "1     United States     930,263,745           national  \n",
       "2     United States     930,263,745           national  \n",
       "3     United States     930,263,745           national  \n",
       "4     United States     930,263,745           national  "
      ]
     },
     "execution_count": 20,
     "metadata": {},
     "output_type": "execute_result"
    }
   ],
   "source": [
    "df_final = pd.merge(left=df_state, right=df_national, on=['Survey_Year','Tax_Type'], suffixes=['_state', '_national'])\n",
    "df_final.head()"
   ]
  },
  {
   "cell_type": "code",
   "execution_count": null,
   "metadata": {
    "collapsed": true
   },
   "outputs": [],
   "source": []
  }
 ],
 "metadata": {
  "kernelspec": {
   "display_name": "Python 3",
   "language": "python",
   "name": "python3"
  },
  "language_info": {
   "codemirror_mode": {
    "name": "ipython",
    "version": 3
   },
   "file_extension": ".py",
   "mimetype": "text/x-python",
   "name": "python",
   "nbconvert_exporter": "python",
   "pygments_lexer": "ipython3",
   "version": "3.6.1"
  },
  "toc": {
   "colors": {
    "hover_highlight": "#DAA520",
    "navigate_num": "#000000",
    "navigate_text": "#333333",
    "running_highlight": "#FF0000",
    "selected_highlight": "#FFD700",
    "sidebar_border": "#EEEEEE",
    "wrapper_background": "#FFFFFF"
   },
   "moveMenuLeft": true,
   "nav_menu": {
    "height": "12px",
    "width": "252px"
   },
   "navigate_menu": true,
   "number_sections": true,
   "sideBar": true,
   "threshold": 4,
   "toc_cell": false,
   "toc_section_display": "block",
   "toc_window_display": false,
   "widenNotebook": false
  },
  "varInspector": {
   "cols": {
    "lenName": 16,
    "lenType": 16,
    "lenVar": 40
   },
   "kernels_config": {
    "python": {
     "delete_cmd_postfix": "",
     "delete_cmd_prefix": "del ",
     "library": "var_list.py",
     "varRefreshCmd": "print(var_dic_list())"
    },
    "r": {
     "delete_cmd_postfix": ") ",
     "delete_cmd_prefix": "rm(",
     "library": "var_list.r",
     "varRefreshCmd": "cat(var_dic_list()) "
    }
   },
   "types_to_exclude": [
    "module",
    "function",
    "builtin_function_or_method",
    "instance",
    "_Feature"
   ],
   "window_display": false
  }
 },
 "nbformat": 4,
 "nbformat_minor": 2
}
