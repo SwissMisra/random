{
 "cells": [
  {
   "cell_type": "code",
   "execution_count": 8,
   "metadata": {},
   "outputs": [],
   "source": [
    "%matplotlib inline\n",
    "import pandas as pd\n",
    "from pygeocoder import Geocoder\n",
    "from geopy.geocoders import Nominatim"
   ]
  },
  {
   "cell_type": "code",
   "execution_count": 25,
   "metadata": {},
   "outputs": [],
   "source": [
    "#filepath = 'C:/Users/Andrew/Documents/Python/misc/events/events.csv'\n",
    "#events=pd.DataFrame.from_csv(filepath, index_col=None)\n",
    "#events.head()"
   ]
  },
  {
   "cell_type": "code",
   "execution_count": 26,
   "metadata": {},
   "outputs": [
    {
     "data": {
      "text/html": [
       "<div>\n",
       "<table border=\"1\" class=\"dataframe\">\n",
       "  <thead>\n",
       "    <tr style=\"text-align: right;\">\n",
       "      <th></th>\n",
       "      <th>lat</th>\n",
       "      <th>long</th>\n",
       "    </tr>\n",
       "  </thead>\n",
       "  <tbody>\n",
       "    <tr>\n",
       "      <th>0</th>\n",
       "      <td>31.24</td>\n",
       "      <td>121.38</td>\n",
       "    </tr>\n",
       "    <tr>\n",
       "      <th>1</th>\n",
       "      <td>30.97</td>\n",
       "      <td>103.65</td>\n",
       "    </tr>\n",
       "  </tbody>\n",
       "</table>\n",
       "</div>"
      ],
      "text/plain": [
       "     lat    long\n",
       "0  31.24  121.38\n",
       "1  30.97  103.65"
      ]
     },
     "execution_count": 26,
     "metadata": {},
     "output_type": "execute_result"
    }
   ],
   "source": [
    "# create some dummy data so dont need to download the kaggle data\n",
    "dummy_dict = [{'lat': '31.24', 'long': '121.38'},{'lat': '30.97', 'long': '103.65'}]\n",
    "# put in a df\n",
    "df = pd.DataFrame.from_dict(dummy_dict)\n",
    "df.head()"
   ]
  },
  {
   "cell_type": "code",
   "execution_count": 27,
   "metadata": {},
   "outputs": [
    {
     "data": {
      "text/html": [
       "<div>\n",
       "<table border=\"1\" class=\"dataframe\">\n",
       "  <thead>\n",
       "    <tr style=\"text-align: right;\">\n",
       "      <th></th>\n",
       "      <th>lat</th>\n",
       "      <th>long</th>\n",
       "      <th>lat_long</th>\n",
       "    </tr>\n",
       "  </thead>\n",
       "  <tbody>\n",
       "    <tr>\n",
       "      <th>0</th>\n",
       "      <td>31.24</td>\n",
       "      <td>121.38</td>\n",
       "      <td>(31.24, 121.38)</td>\n",
       "    </tr>\n",
       "    <tr>\n",
       "      <th>1</th>\n",
       "      <td>30.97</td>\n",
       "      <td>103.65</td>\n",
       "      <td>(30.97, 103.65)</td>\n",
       "    </tr>\n",
       "  </tbody>\n",
       "</table>\n",
       "</div>"
      ],
      "text/plain": [
       "     lat    long         lat_long\n",
       "0  31.24  121.38  (31.24, 121.38)\n",
       "1  30.97  103.65  (30.97, 103.65)"
      ]
     },
     "execution_count": 27,
     "metadata": {},
     "output_type": "execute_result"
    }
   ],
   "source": [
    "# make tuple the geocode function needs\n",
    "df['lat_long'] = df[['lat', 'long']].apply(tuple, axis=1)\n",
    "df.head()"
   ]
  },
  {
   "cell_type": "code",
   "execution_count": 28,
   "metadata": {},
   "outputs": [
    {
     "data": {
      "text/html": [
       "<div>\n",
       "<table border=\"1\" class=\"dataframe\">\n",
       "  <thead>\n",
       "    <tr style=\"text-align: right;\">\n",
       "      <th></th>\n",
       "      <th>lat</th>\n",
       "      <th>long</th>\n",
       "      <th>lat_long</th>\n",
       "      <th>address</th>\n",
       "    </tr>\n",
       "  </thead>\n",
       "  <tbody>\n",
       "    <tr>\n",
       "      <th>0</th>\n",
       "      <td>31.24</td>\n",
       "      <td>121.38</td>\n",
       "      <td>(31.24, 121.38)</td>\n",
       "      <td>(真北路, 普陀区, 真北村, 普陀区 (Putuo), 上海市, 200333, 中国, ...</td>\n",
       "    </tr>\n",
       "    <tr>\n",
       "      <th>1</th>\n",
       "      <td>30.97</td>\n",
       "      <td>103.65</td>\n",
       "      <td>(30.97, 103.65)</td>\n",
       "      <td>(G213;G317, 都江堰市, 都江堰市 / Dujiangyan, 成都市 / Che...</td>\n",
       "    </tr>\n",
       "  </tbody>\n",
       "</table>\n",
       "</div>"
      ],
      "text/plain": [
       "     lat    long         lat_long  \\\n",
       "0  31.24  121.38  (31.24, 121.38)   \n",
       "1  30.97  103.65  (30.97, 103.65)   \n",
       "\n",
       "                                             address  \n",
       "0  (真北路, 普陀区, 真北村, 普陀区 (Putuo), 上海市, 200333, 中国, ...  \n",
       "1  (G213;G317, 都江堰市, 都江堰市 / Dujiangyan, 成都市 / Che...  "
      ]
     },
     "execution_count": 28,
     "metadata": {},
     "output_type": "execute_result"
    }
   ],
   "source": [
    "df[\"address\"]= df[\"lat_long\"].apply(geolocator.reverse, timeout=10)\n",
    "df.head()"
   ]
  },
  {
   "cell_type": "code",
   "execution_count": null,
   "metadata": {},
   "outputs": [],
   "source": [
    "# this seems to work in appending a address column to the df. "
   ]
  }
 ],
 "metadata": {
  "kernelspec": {
   "display_name": "Python 2",
   "language": "python",
   "name": "python2"
  },
  "language_info": {
   "codemirror_mode": {
    "name": "ipython",
    "version": 2
   },
   "file_extension": ".py",
   "mimetype": "text/x-python",
   "name": "python",
   "nbconvert_exporter": "python",
   "pygments_lexer": "ipython2",
   "version": "2.7.13"
  }
 },
 "nbformat": 4,
 "nbformat_minor": 2
}
